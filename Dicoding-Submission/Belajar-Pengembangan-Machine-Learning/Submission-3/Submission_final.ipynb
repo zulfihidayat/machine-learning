{
  "nbformat": 4,
  "nbformat_minor": 0,
  "metadata": {
    "colab": {
      "name": "Submission_final_fixipynb",
      "provenance": [],
      "collapsed_sections": []
    },
    "kernelspec": {
      "name": "python3",
      "display_name": "Python 3"
    },
    "language_info": {
      "name": "python"
    }
  },
  "cells": [
    {
      "cell_type": "markdown",
      "metadata": {
        "id": "BWAAAhz0ofw7"
      },
      "source": [
        "**Zulkifli Yasin Hidayatulloh**\n",
        "\n",
        "Belajar Pengembangan Machine Learning"
      ]
    },
    {
      "cell_type": "markdown",
      "metadata": {
        "id": "t5Va_pYAqrqb"
      },
      "source": [
        "Data yang digunakan: https://www.kaggle.com/viratkothari/animal10"
      ]
    },
    {
      "cell_type": "markdown",
      "metadata": {
        "id": "Otgfg6HWoo9N"
      },
      "source": [
        "**Persiapan Data**"
      ]
    },
    {
      "cell_type": "code",
      "metadata": {
        "id": "G0u_E_5DqdzS"
      },
      "source": [
        "# install kaggle package\n",
        "!pip install -q kaggle"
      ],
      "execution_count": 1,
      "outputs": []
    },
    {
      "cell_type": "code",
      "metadata": {
        "colab": {
          "resources": {
            "http://localhost:8080/nbextensions/google.colab/files.js": {
              "data": "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",
              "ok": true,
              "headers": [
                [
                  "content-type",
                  "application/javascript"
                ]
              ],
              "status": 200,
              "status_text": ""
            }
          },
          "base_uri": "https://localhost:8080/",
          "height": 91
        },
        "id": "JcRz0Y9UquzN",
        "outputId": "c65ff8d1-3ca2-475a-f7c0-c2e0945802d5"
      },
      "source": [
        "# upload kaggle.json\n",
        "from google.colab import files\n",
        "files.upload()"
      ],
      "execution_count": 2,
      "outputs": [
        {
          "output_type": "display_data",
          "data": {
            "text/html": [
              "\n",
              "     <input type=\"file\" id=\"files-572a6685-dd3a-4f97-977c-4e768a61860a\" name=\"files[]\" multiple disabled\n",
              "        style=\"border:none\" />\n",
              "     <output id=\"result-572a6685-dd3a-4f97-977c-4e768a61860a\">\n",
              "      Upload widget is only available when the cell has been executed in the\n",
              "      current browser session. Please rerun this cell to enable.\n",
              "      </output>\n",
              "      <script src=\"/nbextensions/google.colab/files.js\"></script> "
            ],
            "text/plain": [
              "<IPython.core.display.HTML object>"
            ]
          },
          "metadata": {
            "tags": []
          }
        },
        {
          "output_type": "stream",
          "text": [
            "Saving kaggle.json to kaggle.json\n"
          ],
          "name": "stdout"
        },
        {
          "output_type": "execute_result",
          "data": {
            "text/plain": [
              "{'kaggle.json': b'{\"username\":\"zulkifliyasin\",\"key\":\"fc6fa59adff690439feb00d5ec4786c0\"}'}"
            ]
          },
          "metadata": {
            "tags": []
          },
          "execution_count": 2
        }
      ]
    },
    {
      "cell_type": "code",
      "metadata": {
        "colab": {
          "base_uri": "https://localhost:8080/"
        },
        "id": "cylxnEjKqwEK",
        "outputId": "219c3b95-8f2c-4bf6-e685-ea2f3e9d3991"
      },
      "source": [
        "# make directory and change permission\n",
        "!mkdir -p ~/.kaggle\n",
        "!cp kaggle.json ~/.kaggle/\n",
        "!chmod 600 ~/.kaggle/kaggle.json\n",
        "!ls ~/.kaggle"
      ],
      "execution_count": 3,
      "outputs": [
        {
          "output_type": "stream",
          "text": [
            "kaggle.json\n"
          ],
          "name": "stdout"
        }
      ]
    },
    {
      "cell_type": "code",
      "metadata": {
        "colab": {
          "base_uri": "https://localhost:8080/"
        },
        "id": "Ty35Bszyq3In",
        "outputId": "1e860e2f-1c1d-444b-a96c-14ad9bf2365a"
      },
      "source": [
        "#download dataset\n",
        "!kaggle datasets download -d viratkothari/animal10"
      ],
      "execution_count": 4,
      "outputs": [
        {
          "output_type": "stream",
          "text": [
            "Downloading animal10.zip to /content\n",
            " 99% 580M/585M [00:06<00:00, 130MB/s]\n",
            "100% 585M/585M [00:06<00:00, 97.1MB/s]\n"
          ],
          "name": "stdout"
        }
      ]
    },
    {
      "cell_type": "code",
      "metadata": {
        "colab": {
          "base_uri": "https://localhost:8080/"
        },
        "id": "byR6dQfHq8KR",
        "outputId": "9b805b9a-61d2-416c-b6ba-1162eaca1a1f"
      },
      "source": [
        "#unzip and save to dir\n",
        "!mkdir animals\n",
        "!unzip -qq animal10.zip -d animals\n",
        "!ls animals"
      ],
      "execution_count": 5,
      "outputs": [
        {
          "output_type": "stream",
          "text": [
            "Animals-10\n"
          ],
          "name": "stdout"
        }
      ]
    },
    {
      "cell_type": "code",
      "metadata": {
        "colab": {
          "base_uri": "https://localhost:8080/"
        },
        "id": "JfVjAYU7rGot",
        "outputId": "f24bc4ec-892c-41bc-fbfc-d515b47d3f2a"
      },
      "source": [
        "#melihat file yang telah di zip\n",
        "import os\n",
        "animals = os.path.join('/content/animals/Animals-10')\n",
        "print(os.listdir(animals)) "
      ],
      "execution_count": 6,
      "outputs": [
        {
          "output_type": "stream",
          "text": [
            "['cow', 'sheep', 'horse', 'butterfly', 'squirrel', 'chicken', 'spider', 'dog', 'elephant', 'cat']\n"
          ],
          "name": "stdout"
        }
      ]
    },
    {
      "cell_type": "code",
      "metadata": {
        "id": "rov0ZBjGrSMg"
      },
      "source": [
        "#memasukan semua file dalam variabel file_animals\n",
        "file_animals = ['cow', 'sheep', 'horse', 'butterfly', 'squirrel', 'chicken', 'spider', 'dog', 'elephant', 'cat']"
      ],
      "execution_count": 7,
      "outputs": []
    },
    {
      "cell_type": "code",
      "metadata": {
        "colab": {
          "base_uri": "https://localhost:8080/"
        },
        "id": "mcaVNbUorOVQ",
        "outputId": "916fef96-7e4a-4483-bdcf-261adcf7c4fe"
      },
      "source": [
        "#melihat banyaknya data dalam file\n",
        "import glob\n",
        "total = len(list(glob.iglob('/content/animals/Animals-10/*/*.*',recursive=True)))\n",
        "print('Total gambar:',total)\n",
        "for file in file_animals:\n",
        "  dir = os.path.join(animals,file)\n",
        "  jumlah = len(os.listdir(dir))\n",
        "  print(file+ ':', jumlah)"
      ],
      "execution_count": 8,
      "outputs": [
        {
          "output_type": "stream",
          "text": [
            "Total gambar: 26179\n",
            "cow: 1866\n",
            "sheep: 1820\n",
            "horse: 2623\n",
            "butterfly: 2112\n",
            "squirrel: 1862\n",
            "chicken: 3098\n",
            "spider: 4821\n",
            "dog: 4863\n",
            "elephant: 1446\n",
            "cat: 1668\n"
          ],
          "name": "stdout"
        }
      ]
    },
    {
      "cell_type": "code",
      "metadata": {
        "colab": {
          "base_uri": "https://localhost:8080/"
        },
        "id": "FyRlDmtQrcA9",
        "outputId": "56f24344-e25a-4d92-f72e-fada5c3a2892"
      },
      "source": [
        "#memisahkan file yang digunakan dan tidak digunakan\n",
        "import shutil\n",
        "trash_file = ['cow', 'sheep', 'horse', 'butterfly', 'squirrel',  'elephant', 'cat']\n",
        "for trash in trash_file:\n",
        "  path = os.path.join(animals,trash)\n",
        "  shutil.rmtree(path)\n",
        "print(os.listdir(animals))"
      ],
      "execution_count": 9,
      "outputs": [
        {
          "output_type": "stream",
          "text": [
            "['chicken', 'spider', 'dog']\n"
          ],
          "name": "stdout"
        }
      ]
    },
    {
      "cell_type": "code",
      "metadata": {
        "id": "iUyLwN_Brqdw"
      },
      "source": [
        "#memasukan semua file dalam variabel file_animals\n",
        "file_animals = os.listdir(animals)"
      ],
      "execution_count": 10,
      "outputs": []
    },
    {
      "cell_type": "code",
      "metadata": {
        "colab": {
          "base_uri": "https://localhost:8080/"
        },
        "id": "hFOOpnDUryCO",
        "outputId": "c09da1be-d312-497b-d349-7659987e4e91"
      },
      "source": [
        "#melihat banyaknya data dalam file\n",
        "import glob\n",
        "total = len(list(glob.iglob('/content/animals/Animals-10/*/*.*',recursive=True)))\n",
        "print('Total gambar:',total)\n",
        "for file in file_animals:\n",
        "  dir = os.path.join(animals,file)\n",
        "  jumlah = len(os.listdir(dir))\n",
        "  print(file+ ':', jumlah)"
      ],
      "execution_count": 11,
      "outputs": [
        {
          "output_type": "stream",
          "text": [
            "Total gambar: 12782\n",
            "chicken: 3098\n",
            "spider: 4821\n",
            "dog: 4863\n"
          ],
          "name": "stdout"
        }
      ]
    },
    {
      "cell_type": "markdown",
      "metadata": {
        "id": "bUcUFuDDozhw"
      },
      "source": [
        "**Split Data**"
      ]
    },
    {
      "cell_type": "code",
      "metadata": {
        "colab": {
          "base_uri": "https://localhost:8080/"
        },
        "id": "yQyaTJT6r6BE",
        "outputId": "7f043b9f-ea72-4f99-ae0e-2dbde1846708"
      },
      "source": [
        "!pip install split_folders"
      ],
      "execution_count": 12,
      "outputs": [
        {
          "output_type": "stream",
          "text": [
            "Collecting split_folders\n",
            "  Downloading https://files.pythonhosted.org/packages/b8/5f/3c2b2f7ea5e047c8cdc3bb00ae582c5438fcdbbedcc23b3cc1c2c7aae642/split_folders-0.4.3-py3-none-any.whl\n",
            "Installing collected packages: split-folders\n",
            "Successfully installed split-folders-0.4.3\n"
          ],
          "name": "stdout"
        }
      ]
    },
    {
      "cell_type": "code",
      "metadata": {
        "colab": {
          "base_uri": "https://localhost:8080/"
        },
        "id": "jM7-yUxir62G",
        "outputId": "683954d4-cc69-4eda-db84-5fc6610ddb6e"
      },
      "source": [
        "# mengcopy dan membagi data set menjadi train set (80%) dan validation set (20%)\n",
        "import splitfolders\n",
        "splitfolders.ratio('/content/animals/Animals-10','/content/data_set', seed=1337, ratio=(.8, .2))"
      ],
      "execution_count": 13,
      "outputs": [
        {
          "output_type": "stream",
          "text": [
            "Copying files: 12782 files [00:02, 5750.19 files/s]\n"
          ],
          "name": "stderr"
        }
      ]
    },
    {
      "cell_type": "code",
      "metadata": {
        "id": "34tZm7LzsAJ8"
      },
      "source": [
        "# membuat direktori train dan validation\n",
        "train_set = os.path.join('/content/data_set/train')\n",
        "val_set = os.path.join('/content/data_set/val')"
      ],
      "execution_count": 14,
      "outputs": []
    },
    {
      "cell_type": "markdown",
      "metadata": {
        "id": "2xOoNzzRo-7b"
      },
      "source": [
        "**Pemodelan Arsitektur**"
      ]
    },
    {
      "cell_type": "code",
      "metadata": {
        "id": "-mMidqaWsC-F"
      },
      "source": [
        "# membuat objek image data generator\n",
        "from tensorflow.keras.preprocessing.image import ImageDataGenerator\n",
        "train_datagen = ImageDataGenerator(\n",
        "    rescale = 1./255,\n",
        "    rotation_range = 40,\n",
        "    horizontal_flip = True,\n",
        "    shear_range = 0.2,\n",
        "    zoom_range = 0.2,\n",
        "    width_shift_range=0.2,\n",
        "    height_shift_range=0.2,\n",
        "    fill_mode = 'nearest')\n",
        "\n",
        "test_datagen = ImageDataGenerator(\n",
        "    rescale = 1./225,\n",
        "    rotation_range = 40,\n",
        "    zoom_range = 0.2,\n",
        "    horizontal_flip = True,\n",
        "    shear_range = 0.2,\n",
        "    width_shift_range=0.2,\n",
        "    height_shift_range=0.2,\n",
        "    fill_mode = 'nearest')"
      ],
      "execution_count": 15,
      "outputs": []
    },
    {
      "cell_type": "code",
      "metadata": {
        "colab": {
          "base_uri": "https://localhost:8080/"
        },
        "id": "d-NLeFpbsFUm",
        "outputId": "a6393eac-0cbb-48c9-ec54-38828f08d0dd"
      },
      "source": [
        "# membuat data latih\n",
        "train_generator = train_datagen.flow_from_directory(\n",
        "    train_set,\n",
        "    target_size=(150,150),\n",
        "    batch_size= 128,\n",
        "    class_mode='categorical')\n",
        "\n",
        "validation_generator = test_datagen.flow_from_directory(\n",
        "    val_set,\n",
        "    target_size = (150,150),\n",
        "    batch_size = 128,\n",
        "    class_mode = 'categorical')"
      ],
      "execution_count": 16,
      "outputs": [
        {
          "output_type": "stream",
          "text": [
            "Found 10224 images belonging to 3 classes.\n",
            "Found 2558 images belonging to 3 classes.\n"
          ],
          "name": "stdout"
        }
      ]
    },
    {
      "cell_type": "code",
      "metadata": {
        "colab": {
          "base_uri": "https://localhost:8080/"
        },
        "id": "SMhRZpzCsJ3e",
        "outputId": "12d42544-fff8-44df-a63d-9ea706368ce3"
      },
      "source": [
        "import tensorflow as tf\n",
        "\n",
        "tf.device('/device:GPU:0')\n",
        "\n",
        "model = tf.keras.models.Sequential([\n",
        "    tf.keras.layers.Conv2D(64, (3,3), activation='relu', input_shape=(150, 150, 3)),\n",
        "    tf.keras.layers.MaxPooling2D(2, 2),\n",
        "    tf.keras.layers.Conv2D(64, (3,3), activation='relu'),\n",
        "    tf.keras.layers.MaxPooling2D(2,2),\n",
        "    tf.keras.layers.Conv2D(128, (3,3), activation='relu'),\n",
        "    tf.keras.layers.MaxPooling2D(2,2),\n",
        "    tf.keras.layers.Conv2D(256, (3,3), activation='relu'),\n",
        "    tf.keras.layers.MaxPooling2D(2,2),\n",
        "    tf.keras.layers.Flatten(),\n",
        "    tf.keras.layers.Dropout(0.5),\n",
        "    tf.keras.layers.Dense(512, activation='relu'),\n",
        "    tf.keras.layers.Dense(256, activation='relu'),\n",
        "    tf.keras.layers.Dense(128, activation='relu'),\n",
        "    tf.keras.layers.Dense(3, activation='softmax'),\n",
        "])\n",
        "model.compile(optimizer='adam',\n",
        "              loss='categorical_crossentropy',\n",
        "              metrics = ['accuracy'])\n",
        "model.summary()"
      ],
      "execution_count": 23,
      "outputs": [
        {
          "output_type": "stream",
          "text": [
            "Model: \"sequential_2\"\n",
            "_________________________________________________________________\n",
            "Layer (type)                 Output Shape              Param #   \n",
            "=================================================================\n",
            "conv2d_8 (Conv2D)            (None, 148, 148, 64)      1792      \n",
            "_________________________________________________________________\n",
            "max_pooling2d_8 (MaxPooling2 (None, 74, 74, 64)        0         \n",
            "_________________________________________________________________\n",
            "conv2d_9 (Conv2D)            (None, 72, 72, 64)        36928     \n",
            "_________________________________________________________________\n",
            "max_pooling2d_9 (MaxPooling2 (None, 36, 36, 64)        0         \n",
            "_________________________________________________________________\n",
            "conv2d_10 (Conv2D)           (None, 34, 34, 128)       73856     \n",
            "_________________________________________________________________\n",
            "max_pooling2d_10 (MaxPooling (None, 17, 17, 128)       0         \n",
            "_________________________________________________________________\n",
            "conv2d_11 (Conv2D)           (None, 15, 15, 256)       295168    \n",
            "_________________________________________________________________\n",
            "max_pooling2d_11 (MaxPooling (None, 7, 7, 256)         0         \n",
            "_________________________________________________________________\n",
            "flatten_2 (Flatten)          (None, 12544)             0         \n",
            "_________________________________________________________________\n",
            "dropout_2 (Dropout)          (None, 12544)             0         \n",
            "_________________________________________________________________\n",
            "dense_6 (Dense)              (None, 512)               6423040   \n",
            "_________________________________________________________________\n",
            "dense_7 (Dense)              (None, 256)               131328    \n",
            "_________________________________________________________________\n",
            "dense_8 (Dense)              (None, 128)               32896     \n",
            "_________________________________________________________________\n",
            "dense_9 (Dense)              (None, 3)                 387       \n",
            "=================================================================\n",
            "Total params: 6,995,395\n",
            "Trainable params: 6,995,395\n",
            "Non-trainable params: 0\n",
            "_________________________________________________________________\n"
          ],
          "name": "stdout"
        }
      ]
    },
    {
      "cell_type": "code",
      "metadata": {
        "id": "Sap5OTLVtmSt"
      },
      "source": [
        "class myCallback(tf.keras.callbacks.Callback):\n",
        "  def on_epoch_end(self, epoch, logs={}):\n",
        "    if(logs.get('accuracy')>0.92 and logs.get('val_accuracy')>0.92):\n",
        "      print(\"\\n Akurasi lebih dari 92%, hentikan training! \")\n",
        "      self.model.stop_training = True\n",
        "\n",
        "callbacks = myCallback()"
      ],
      "execution_count": 24,
      "outputs": []
    },
    {
      "cell_type": "code",
      "metadata": {
        "colab": {
          "base_uri": "https://localhost:8080/"
        },
        "id": "RF8w7cfOtqzt",
        "outputId": "bfd13dda-aa25-4e19-8de8-98f525f9ef78"
      },
      "source": [
        "history = model.fit(train_generator, \n",
        "                    epochs = 30, \n",
        "                    steps_per_epoch = train_generator.samples // 128,\n",
        "                    validation_data = validation_generator, \n",
        "                    validation_steps = validation_generator.samples // 128,\n",
        "                    verbose = 1,\n",
        "                    callbacks = [callbacks])"
      ],
      "execution_count": 25,
      "outputs": [
        {
          "output_type": "stream",
          "text": [
            "Epoch 1/30\n",
            "79/79 [==============================] - 771s 10s/step - loss: 1.0713 - accuracy: 0.4001 - val_loss: 1.0713 - val_accuracy: 0.4268\n",
            "Epoch 2/30\n",
            "79/79 [==============================] - 764s 10s/step - loss: 0.9016 - accuracy: 0.5778 - val_loss: 0.7528 - val_accuracy: 0.6719\n",
            "Epoch 3/30\n",
            "79/79 [==============================] - 763s 10s/step - loss: 0.7131 - accuracy: 0.7019 - val_loss: 0.6384 - val_accuracy: 0.7471\n",
            "Epoch 4/30\n",
            "79/79 [==============================] - 762s 10s/step - loss: 0.6071 - accuracy: 0.7581 - val_loss: 0.5548 - val_accuracy: 0.7755\n",
            "Epoch 5/30\n",
            "79/79 [==============================] - 762s 10s/step - loss: 0.5574 - accuracy: 0.7837 - val_loss: 0.5123 - val_accuracy: 0.8059\n",
            "Epoch 6/30\n",
            "79/79 [==============================] - 761s 10s/step - loss: 0.5077 - accuracy: 0.8023 - val_loss: 0.4780 - val_accuracy: 0.8125\n",
            "Epoch 7/30\n",
            "79/79 [==============================] - 760s 10s/step - loss: 0.4648 - accuracy: 0.8211 - val_loss: 0.4118 - val_accuracy: 0.8384\n",
            "Epoch 8/30\n",
            "79/79 [==============================] - 758s 10s/step - loss: 0.4320 - accuracy: 0.8345 - val_loss: 0.3931 - val_accuracy: 0.8507\n",
            "Epoch 9/30\n",
            "79/79 [==============================] - 756s 10s/step - loss: 0.4264 - accuracy: 0.8377 - val_loss: 0.4197 - val_accuracy: 0.8413\n",
            "Epoch 10/30\n",
            "79/79 [==============================] - 756s 10s/step - loss: 0.3908 - accuracy: 0.8526 - val_loss: 0.3932 - val_accuracy: 0.8454\n",
            "Epoch 11/30\n",
            "79/79 [==============================] - 756s 10s/step - loss: 0.3845 - accuracy: 0.8529 - val_loss: 0.3584 - val_accuracy: 0.8660\n",
            "Epoch 12/30\n",
            "79/79 [==============================] - 756s 10s/step - loss: 0.3523 - accuracy: 0.8645 - val_loss: 0.3471 - val_accuracy: 0.8660\n",
            "Epoch 13/30\n",
            "79/79 [==============================] - 756s 10s/step - loss: 0.3348 - accuracy: 0.8737 - val_loss: 0.3259 - val_accuracy: 0.8766\n",
            "Epoch 14/30\n",
            "79/79 [==============================] - 757s 10s/step - loss: 0.3051 - accuracy: 0.8852 - val_loss: 0.3199 - val_accuracy: 0.8943\n",
            "Epoch 15/30\n",
            "79/79 [==============================] - 755s 10s/step - loss: 0.3098 - accuracy: 0.8838 - val_loss: 0.3538 - val_accuracy: 0.8697\n",
            "Epoch 16/30\n",
            "79/79 [==============================] - 755s 10s/step - loss: 0.3197 - accuracy: 0.8817 - val_loss: 0.3384 - val_accuracy: 0.8701\n",
            "Epoch 17/30\n",
            "79/79 [==============================] - 755s 10s/step - loss: 0.2947 - accuracy: 0.8903 - val_loss: 0.2990 - val_accuracy: 0.8914\n",
            "Epoch 18/30\n",
            "79/79 [==============================] - 756s 10s/step - loss: 0.3002 - accuracy: 0.8886 - val_loss: 0.2806 - val_accuracy: 0.8935\n",
            "Epoch 19/30\n",
            "79/79 [==============================] - 756s 10s/step - loss: 0.2857 - accuracy: 0.8934 - val_loss: 0.2942 - val_accuracy: 0.8910\n",
            "Epoch 20/30\n",
            "79/79 [==============================] - 755s 10s/step - loss: 0.2811 - accuracy: 0.8969 - val_loss: 0.2938 - val_accuracy: 0.8877\n",
            "Epoch 21/30\n",
            "79/79 [==============================] - 756s 10s/step - loss: 0.2818 - accuracy: 0.8981 - val_loss: 0.2622 - val_accuracy: 0.8988\n",
            "Epoch 22/30\n",
            "79/79 [==============================] - 754s 10s/step - loss: 0.2647 - accuracy: 0.9011 - val_loss: 0.2812 - val_accuracy: 0.8976\n",
            "Epoch 23/30\n",
            "79/79 [==============================] - 753s 10s/step - loss: 0.2645 - accuracy: 0.9016 - val_loss: 0.2907 - val_accuracy: 0.8869\n",
            "Epoch 24/30\n",
            "79/79 [==============================] - 753s 10s/step - loss: 0.2785 - accuracy: 0.8954 - val_loss: 0.2622 - val_accuracy: 0.9038\n",
            "Epoch 25/30\n",
            "79/79 [==============================] - 754s 10s/step - loss: 0.2575 - accuracy: 0.9052 - val_loss: 0.2529 - val_accuracy: 0.9137\n",
            "Epoch 26/30\n",
            "79/79 [==============================] - 754s 10s/step - loss: 0.2477 - accuracy: 0.9103 - val_loss: 0.3245 - val_accuracy: 0.8816\n",
            "Epoch 27/30\n",
            "79/79 [==============================] - 754s 10s/step - loss: 0.2433 - accuracy: 0.9102 - val_loss: 0.2963 - val_accuracy: 0.8853\n",
            "Epoch 28/30\n",
            "79/79 [==============================] - 752s 10s/step - loss: 0.2563 - accuracy: 0.9075 - val_loss: 0.2607 - val_accuracy: 0.9054\n",
            "Epoch 29/30\n",
            "79/79 [==============================] - 754s 10s/step - loss: 0.2375 - accuracy: 0.9112 - val_loss: 0.2592 - val_accuracy: 0.9046\n",
            "Epoch 30/30\n",
            "79/79 [==============================] - 752s 10s/step - loss: 0.2351 - accuracy: 0.9129 - val_loss: 0.2677 - val_accuracy: 0.8972\n"
          ],
          "name": "stdout"
        }
      ]
    },
    {
      "cell_type": "code",
      "metadata": {
        "colab": {
          "base_uri": "https://localhost:8080/",
          "height": 573
        },
        "id": "S0kr0enhlv8e",
        "outputId": "c72bd000-96d9-498c-b7d4-8e569c931ab4"
      },
      "source": [
        "from matplotlib import pyplot as plt\n",
        "#Plot Loss model\n",
        "plt.plot(history.history['loss'], label='Training', color='green')\n",
        "plt.plot(history.history['val_loss'], label='Validation', color='blue')\n",
        "plt.title('Plot Loss Model')\n",
        "plt.ylabel('Value Loss')\n",
        "plt.xlabel('Epoch')\n",
        "plt.legend(loc=\"lower left\")\n",
        "plt.show()\n",
        "\n",
        "#Plot Accuracy model\n",
        "plt.plot(history.history['accuracy'], label='Training', color='green')\n",
        "plt.plot(history.history['val_accuracy'], label='Validation', color='blue')\n",
        "plt.title('Plot Accuracy Model')\n",
        "plt.ylabel('Value Accuracy')\n",
        "plt.xlabel('Epoch')\n",
        "plt.legend(loc=\"lower right\")\n",
        "plt.show()"
      ],
      "execution_count": 27,
      "outputs": [
        {
          "output_type": "display_data",
          "data": {
            "image/png": "[encoded data removed]",
            "text/plain": [
              "<Figure size 432x288 with 1 Axes>"
            ]
          },
          "metadata": {
            "tags": [],
            "needs_background": "light"
          }
        },
        {
          "output_type": "display_data",
          "data": {
            "image/png": "[encoded data removed]",
            "text/plain": [
              "<Figure size 432x288 with 1 Axes>"
            ]
          },
          "metadata": {
            "tags": [],
            "needs_background": "light"
          }
        }
      ]
    },
    {
      "cell_type": "code",
      "metadata": {
        "colab": {
          "base_uri": "https://localhost:8080/"
        },
        "id": "aZinW_xdnVLH",
        "outputId": "eaa58186-9368-44eb-a1df-0627cdbe904f"
      },
      "source": [
        "# Menghilangkan Warning\n",
        "import warnings\n",
        "warnings.filterwarnings('ignore')\n",
        "\n",
        "# Convert Model.\n",
        "converter = tf.lite.TFLiteConverter.from_keras_model(model)\n",
        "tflite_model = converter.convert()\n",
        "\n",
        "# Save the model.\n",
        "with tf.io.gfile.GFile('animals_model.tflite', 'wb') as f:\n",
        "  f.write(tflite_model)"
      ],
      "execution_count": 30,
      "outputs": [
        {
          "output_type": "stream",
          "text": [
            "INFO:tensorflow:Assets written to: /tmp/tmp3zt2jqzp/assets\n"
          ],
          "name": "stdout"
        }
      ]
    },
    {
      "cell_type": "code",
      "metadata": {
        "colab": {
          "base_uri": "https://localhost:8080/"
        },
        "id": "oVP_40jYn0mP",
        "outputId": "f2695915-0eb3-496b-c434-96858c5f464a"
      },
      "source": [
        "!ls -la | grep 'animals_model'"
      ],
      "execution_count": 31,
      "outputs": [
        {
          "output_type": "stream",
          "text": [
            "-rw-r--r-- 1 root root  27987232 Jul  6 07:01 animals_model.tflite\n"
          ],
          "name": "stdout"
        }
      ]
    }
  ]
}